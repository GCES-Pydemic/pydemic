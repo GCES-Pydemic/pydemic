{
 "cells": [
  {
   "cell_type": "code",
   "execution_count": 5,
   "metadata": {},
   "outputs": [],
   "source": [
    "from pydemic import *\n",
    "from pydemic.diseases import covid19\n",
    "from pydemic.empirical import EpidemicCurve, Epi\n",
    "import mundi"
   ]
  },
  {
   "cell_type": "markdown",
   "metadata": {},
   "source": [
    "# Sittuation report on Brazillian states\n",
    "\n",
    "This notebook analyzes cases/deaths data from all Brazillian states and\n",
    "produces plots and spreadsheets with the current sittuation of epidemic in Brazil. Brazil has become, together with the USA, the epicenter of COVID-19 in the World."
   ]
  },
  {
   "cell_type": "code",
   "execution_count": 6,
   "metadata": {},
   "outputs": [],
   "source": [
    "curves = [EpidemicCurve.from_region(r) for r in mundi.regions(country_code=\"BR\", type=\"state\").index]"
   ]
  },
  {
   "cell_type": "code",
   "execution_count": null,
   "metadata": {},
   "outputs": [],
   "source": []
  }
 ],
 "metadata": {
  "kernelspec": {
   "display_name": "Python 3",
   "language": "python",
   "name": "python3"
  },
  "language_info": {
   "codemirror_mode": {
    "name": "ipython",
    "version": 3
   },
   "file_extension": ".py",
   "mimetype": "text/x-python",
   "name": "python",
   "nbconvert_exporter": "python",
   "pygments_lexer": "ipython3",
   "version": "3.8.1"
  }
 },
 "nbformat": 4,
 "nbformat_minor": 4
}
