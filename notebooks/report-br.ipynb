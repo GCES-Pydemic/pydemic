{
 "cells": [
  {
   "cell_type": "code",
   "execution_count": 1,
   "metadata": {},
   "outputs": [],
   "source": [
    "from pydemic.all import *\n",
    "from pydemic import fitting as fit\n",
    "from functools import lru_cache"
   ]
  },
  {
   "cell_type": "code",
   "execution_count": 2,
   "metadata": {},
   "outputs": [
    {
     "data": {
      "text/html": [
       "<div>\n",
       "<style scoped>\n",
       "    .dataframe tbody tr th:only-of-type {\n",
       "        vertical-align: middle;\n",
       "    }\n",
       "\n",
       "    .dataframe tbody tr th {\n",
       "        vertical-align: top;\n",
       "    }\n",
       "\n",
       "    .dataframe thead th {\n",
       "        text-align: right;\n",
       "    }\n",
       "</style>\n",
       "<table border=\"1\" class=\"dataframe\">\n",
       "  <thead>\n",
       "    <tr style=\"text-align: right;\">\n",
       "      <th></th>\n",
       "      <th>cases</th>\n",
       "      <th>deaths</th>\n",
       "    </tr>\n",
       "    <tr>\n",
       "      <th>date</th>\n",
       "      <th></th>\n",
       "      <th></th>\n",
       "    </tr>\n",
       "  </thead>\n",
       "  <tbody>\n",
       "    <tr>\n",
       "      <th>2020-03-31</th>\n",
       "      <td>628</td>\n",
       "      <td>0</td>\n",
       "    </tr>\n",
       "    <tr>\n",
       "      <th>2020-04-01</th>\n",
       "      <td>1758</td>\n",
       "      <td>0</td>\n",
       "    </tr>\n",
       "    <tr>\n",
       "      <th>2020-04-02</th>\n",
       "      <td>2963</td>\n",
       "      <td>0</td>\n",
       "    </tr>\n",
       "    <tr>\n",
       "      <th>2020-04-03</th>\n",
       "      <td>4117</td>\n",
       "      <td>0</td>\n",
       "    </tr>\n",
       "    <tr>\n",
       "      <th>2020-04-04</th>\n",
       "      <td>5267</td>\n",
       "      <td>0</td>\n",
       "    </tr>\n",
       "    <tr>\n",
       "      <th>...</th>\n",
       "      <td>...</td>\n",
       "      <td>...</td>\n",
       "    </tr>\n",
       "    <tr>\n",
       "      <th>2020-08-02</th>\n",
       "      <td>2700672</td>\n",
       "      <td>93600</td>\n",
       "    </tr>\n",
       "    <tr>\n",
       "      <th>2020-08-03</th>\n",
       "      <td>2724649</td>\n",
       "      <td>94245</td>\n",
       "    </tr>\n",
       "    <tr>\n",
       "      <th>2020-08-04</th>\n",
       "      <td>2773158</td>\n",
       "      <td>95339</td>\n",
       "    </tr>\n",
       "    <tr>\n",
       "      <th>2020-08-05</th>\n",
       "      <td>2819108</td>\n",
       "      <td>96483</td>\n",
       "    </tr>\n",
       "    <tr>\n",
       "      <th>2020-08-06</th>\n",
       "      <td>2845970</td>\n",
       "      <td>97198</td>\n",
       "    </tr>\n",
       "  </tbody>\n",
       "</table>\n",
       "<p>129 rows × 2 columns</p>\n",
       "</div>"
      ],
      "text/plain": [
       "              cases  deaths\n",
       "date                       \n",
       "2020-03-31      628       0\n",
       "2020-04-01     1758       0\n",
       "2020-04-02     2963       0\n",
       "2020-04-03     4117       0\n",
       "2020-04-04     5267       0\n",
       "...             ...     ...\n",
       "2020-08-02  2700672   93600\n",
       "2020-08-03  2724649   94245\n",
       "2020-08-04  2773158   95339\n",
       "2020-08-05  2819108   96483\n",
       "2020-08-06  2845970   97198\n",
       "\n",
       "[129 rows x 2 columns]"
      ]
     },
     "execution_count": 2,
     "metadata": {},
     "output_type": "execute_result"
    }
   ],
   "source": [
    "mundi.region('BR').pydemic.epidemic_curve()"
   ]
  },
  {
   "cell_type": "code",
   "execution_count": 3,
   "metadata": {},
   "outputs": [],
   "source": [
    "        \n",
    "        \n",
    "def suspect(model, dates):\n",
    "    return model['cases:dates'].loc[dates] / 0.13\n"
   ]
  },
  {
   "cell_type": "code",
   "execution_count": 4,
   "metadata": {},
   "outputs": [
    {
     "ename": "NameError",
     "evalue": "name 'Report' is not defined",
     "output_type": "error",
     "traceback": [
      "\u001b[0;31m---------------------------------------------------------------------------\u001b[0m",
      "\u001b[0;31mNameError\u001b[0m                                 Traceback (most recent call last)",
      "\u001b[0;32m<ipython-input-4-9c84b5e1de16>\u001b[0m in \u001b[0;36m<module>\u001b[0;34m\u001b[0m\n\u001b[1;32m      1\u001b[0m \u001b[0mstates\u001b[0m \u001b[0;34m=\u001b[0m \u001b[0mmundi\u001b[0m\u001b[0;34m.\u001b[0m\u001b[0mregions\u001b[0m\u001b[0;34m(\u001b[0m\u001b[0mcountry_code\u001b[0m\u001b[0;34m=\u001b[0m\u001b[0;34m'BR'\u001b[0m\u001b[0;34m,\u001b[0m \u001b[0mtype\u001b[0m\u001b[0;34m=\u001b[0m\u001b[0;34m'city'\u001b[0m\u001b[0;34m)\u001b[0m\u001b[0;34m.\u001b[0m\u001b[0mindex\u001b[0m\u001b[0;34m\u001b[0m\u001b[0;34m\u001b[0m\u001b[0m\n\u001b[0;32m----> 2\u001b[0;31m \u001b[0mreport\u001b[0m \u001b[0;34m=\u001b[0m \u001b[0mReport\u001b[0m\u001b[0;34m.\u001b[0m\u001b[0mfrom_options\u001b[0m\u001b[0;34m(\u001b[0m\u001b[0mSEAIR\u001b[0m\u001b[0;34m,\u001b[0m \u001b[0mregion\u001b[0m\u001b[0;34m=\u001b[0m\u001b[0mstates\u001b[0m\u001b[0;34m)\u001b[0m\u001b[0;34m\u001b[0m\u001b[0;34m\u001b[0m\u001b[0m\n\u001b[0m\u001b[1;32m      3\u001b[0m \u001b[0mreport\u001b[0m\u001b[0;34m.\u001b[0m\u001b[0minit_cases\u001b[0m\u001b[0;34m(\u001b[0m\u001b[0;34m)\u001b[0m\u001b[0;34m.\u001b[0m\u001b[0minit_R0\u001b[0m\u001b[0;34m(\u001b[0m\u001b[0;34m)\u001b[0m\u001b[0;34m.\u001b[0m\u001b[0mrun\u001b[0m\u001b[0;34m(\u001b[0m\u001b[0;36m60\u001b[0m\u001b[0;34m)\u001b[0m\u001b[0;34m\u001b[0m\u001b[0;34m\u001b[0m\u001b[0m\n",
      "\u001b[0;31mNameError\u001b[0m: name 'Report' is not defined"
     ]
    }
   ],
   "source": [
    "states = mundi.regions(country_code='BR', type='city').index\n",
    "report = Report.from_options(SEAIR, region=states)\n",
    "report.init_cases().init_R0().run(60)"
   ]
  },
  {
   "cell_type": "code",
   "execution_count": 129,
   "metadata": {},
   "outputs": [],
   "source": [
    "def to_column(col):\n",
    "    if callable(col):\n",
    "        return col\n",
    "    \n",
    "    def fn(model, dates):\n",
    "        return model[col + ':dates'].loc[dates]\n",
    "        \n",
    "    return fn\n",
    "\n",
    "def col_name(col):\n",
    "    if isinstance(col, str):\n",
    "        return col\n",
    "    return col.__name__\n",
    "\n",
    "def get_times(self, columns, times=(7, 15, 30, 60), prepend=None, append=False, dtype=None):\n",
    "    locs = [t - self._niter - 1 for t in times]\n",
    "    col_names = [*map(col_name, columns)]\n",
    "    columns = [*map(to_column,columns)]\n",
    "    rows = []\n",
    "    n_times = len(times)\n",
    "    n_cols = len(columns)\n",
    "    \n",
    "    for m in self._models:\n",
    "        m = m.clinical()\n",
    "        dates = m.dates[locs]\n",
    "        row = [None] * (n_times * n_cols)\n",
    "        rows.append(row)\n",
    "        for i, col in enumerate(columns):\n",
    "            values = col(m, dates)\n",
    "            row[i::n_cols] = values\n",
    "    \n",
    "    index = [m.region.id for m in self._models]\n",
    "    col_tuples = ((x, y) for x in times for y in col_names)\n",
    "    col_index = pd.MultiIndex.from_tuples(col_tuples)\n",
    "    data = pd.DataFrame(rows, index=index, columns=col_index)\n",
    "    if dtype:\n",
    "        data = data.astype(dtype)\n",
    "    \n",
    "    prefix = pd.DataFrame([m.R0 for m in self._models], index=index, columns=[('info', 'R0')])\n",
    "    data = pd.concat([prefix, data], axis=1)\n",
    "    data.columns = pd.MultiIndex.from_tuples(data.columns)\n",
    "    return data\n",
    "\n",
    "get_times(report, ['cases', 'deaths', 'severe', 'critical', suspect], dtype=int).to_excel('br.xlsx')"
   ]
  },
  {
   "cell_type": "code",
   "execution_count": 130,
   "metadata": {},
   "outputs": [
    {
     "name": "stdout",
     "output_type": "stream",
     "text": [
      "/home/chips/git/corona/pydemic/notebooks\r\n"
     ]
    }
   ],
   "source": [
    "!pwd"
   ]
  },
  {
   "cell_type": "raw",
   "metadata": {},
   "source": [
    "def regions_sp():\n",
    "    return [\n",
    "        \"BR-SP\",\n",
    "        *mundi.regions(parent_id=\"BR-SP\", subtype='healthcare region').index,\n",
    "        *(ref for ref in mundi.regions(country_code=\"BR\", type=\"city\").index if ref.startswith('BR-35')),\n",
    "    ]\n",
    "\n",
    "@lru_cache(None)\n",
    "def region(ref):\n",
    "    r = mundi.region(ref)\n",
    "    cases = r.pydemic.epidemic_curve(real=True)\n",
    "    m = SEIR(region=r)\n",
    "    try:\n",
    "        if len(cases) > 50:\n",
    "            m.set_cases(cases, adjust_R0=True)\n",
    "        else:\n",
    "            m.R0 = 1.13\n",
    "    except AssertionError:\n",
    "        m.R0 = 1.13\n",
    "    m.R0 = min(max(0.5, m.R0), 2.0)\n",
    "    m.run(60)\n",
    "    return m.clinical()"
   ]
  },
  {
   "cell_type": "code",
   "execution_count": 58,
   "metadata": {},
   "outputs": [],
   "source": [
    "models = {\n",
    "    r: region(r)[['cases:dates', 'deaths:dates', 'severe:dates', 'critical:dates']].loc['2020-07-29':].T\n",
    "    for r in regions_sp()\n",
    "}"
   ]
  },
  {
   "cell_type": "code",
   "execution_count": 56,
   "metadata": {},
   "outputs": [
    {
     "data": {
      "text/plain": [
       "663"
      ]
     },
     "execution_count": 56,
     "metadata": {},
     "output_type": "execute_result"
    }
   ],
   "source": [
    "len(models)"
   ]
  },
  {
   "cell_type": "code",
   "execution_count": 60,
   "metadata": {},
   "outputs": [],
   "source": [
    "data = pd.concat([df for df in models.values()], keys=models.keys())"
   ]
  },
  {
   "cell_type": "code",
   "execution_count": 61,
   "metadata": {},
   "outputs": [],
   "source": [
    "data.to_excel('sp.xlsx')"
   ]
  },
  {
   "cell_type": "code",
   "execution_count": null,
   "metadata": {},
   "outputs": [],
   "source": []
  }
 ],
 "metadata": {
  "kernelspec": {
   "display_name": "Python 3",
   "language": "python",
   "name": "python3"
  },
  "language_info": {
   "codemirror_mode": {
    "name": "ipython",
    "version": 3
   },
   "file_extension": ".py",
   "mimetype": "text/x-python",
   "name": "python",
   "nbconvert_exporter": "python",
   "pygments_lexer": "ipython3",
   "version": "3.8.1"
  }
 },
 "nbformat": 4,
 "nbformat_minor": 2
}
